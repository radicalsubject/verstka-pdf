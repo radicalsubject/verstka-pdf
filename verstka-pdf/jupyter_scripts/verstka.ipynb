{
 "cells": [
  {
   "cell_type": "code",
   "execution_count": null,
   "id": "50200077",
   "metadata": {},
   "outputs": [],
   "source": [
    "# import pypdftk\n",
    "# pdf_path = \"./src/book.pdf\"\n",
    "# num_pages = pypdftk.get_num_pages(pdf_path)\n"
   ]
  },
  {
   "cell_type": "code",
   "execution_count": null,
   "id": "b864ae56",
   "metadata": {},
   "outputs": [],
   "source": [
    "import pypdftk, os\n",
    "\n",
    "#change this\n",
    "pdf_path = \"./src/book.pdf\"\n",
    "pages_per_booklet = 16\n",
    "# this booklet consists from 4 lists, each\n",
    "\n",
    "# read the starting file\n",
    "num_pages = pypdftk.get_num_pages(pdf_path)\n",
    "#calculate parameters\n",
    "additional_blank_pages_required = pages_per_booklet-num_pages%pages_per_booklet\n",
    "number_of_booklets = num_pages//pages_per_booklet + 1\n",
    "#create blanks.pdf with desired number of pages then concat it to the original file\n",
    "os.system(\"convert xc:none -page A4 ./src/blank.pdf\")\n",
    "pypdftk.get_pages(\"./src/blank.pdf\", [[1]]*additional_blank_pages_required, out_file=\"./src/blanks.pdf\")\n",
    "pypdftk.concat([pdf_path, \"./src/blanks.pdf\"], out_file=\"./src/book_concat.pdf\")\n",
    "\n",
    "#now calculate the pages order\n",
    "pages_array = []\n",
    "for i in range(number_of_booklets):\n",
    "    for page in range(pages_per_booklet//2):\n",
    "        if page%2 == 0:\n",
    "            pages_array.append([pages_per_booklet-page+i*pages_per_booklet])\n",
    "            pages_array.append([page+1+i*pages_per_booklet])\n",
    "        else:\n",
    "            pages_array.append([page+1+i*pages_per_booklet])\n",
    "            pages_array.append([pages_per_booklet-page+i*pages_per_booklet]) \n",
    "\n",
    "print(f'additional_blank_pages_required={additional_blank_pages_required}, \\npages_numeration = {pages_array}')"
   ]
  },
  {
   "cell_type": "code",
   "execution_count": 39,
   "id": "31a664dd",
   "metadata": {},
   "outputs": [
    {
     "data": {
      "text/plain": [
       "'./out/book_converted.pdf'"
      ]
     },
     "execution_count": 39,
     "metadata": {},
     "output_type": "execute_result"
    }
   ],
   "source": [
    "#finally convert the book to brochure-printable\n",
    "pypdftk.get_pages(\"./src/book_concat.pdf\", pages_array, out_file=\"./out/book_converted.pdf\")"
   ]
  },
  {
   "cell_type": "code",
   "execution_count": null,
   "id": "88bed12e",
   "metadata": {},
   "outputs": [],
   "source": []
  },
  {
   "cell_type": "code",
   "execution_count": null,
   "id": "c96a3065",
   "metadata": {},
   "outputs": [],
   "source": []
  }
 ],
 "metadata": {
  "kernelspec": {
   "display_name": "Python 3",
   "language": "python",
   "name": "python3"
  },
  "language_info": {
   "codemirror_mode": {
    "name": "ipython",
    "version": 3
   },
   "file_extension": ".py",
   "mimetype": "text/x-python",
   "name": "python",
   "nbconvert_exporter": "python",
   "pygments_lexer": "ipython3",
   "version": "3.8.10"
  }
 },
 "nbformat": 4,
 "nbformat_minor": 5
}
